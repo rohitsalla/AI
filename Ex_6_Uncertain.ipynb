{
  "nbformat": 4,
  "nbformat_minor": 0,
  "metadata": {
    "colab": {
      "private_outputs": true,
      "provenance": []
    },
    "kernelspec": {
      "name": "python3",
      "display_name": "Python 3"
    },
    "language_info": {
      "name": "python"
    }
  },
  "cells": [
    {
      "cell_type": "code",
      "execution_count": null,
      "metadata": {
        "id": "3_edOXVolaGQ"
      },
      "outputs": [],
      "source": [
        "import random\n",
        "\n",
        "def play_monty_hall(choice):\n",
        "    # Prizes behind the door\n",
        "    # initial ordering doesn't matter\n",
        "    prizes = ['goat', 'car', 'goat']\n",
        "\n",
        "    # Randomizing the prizes\n",
        "    random.shuffle(prizes)\n",
        "\n",
        "    # Determining door without car to open\n",
        "    while True:\n",
        "        opening_door = random.randrange(len(prizes))\n",
        "        if prizes[opening_door] != 'car' and choice-1 != opening_door:\n",
        "            break\n",
        "\n",
        "    opening_door = opening_door + 1\n",
        "    print('We are opening the door number-%d' % (opening_door))\n",
        "\n",
        "    # Determining switching door\n",
        "    options = [1,2,3]\n",
        "    options.remove(choice)\n",
        "    options.remove(opening_door)\n",
        "    switching_door = options[0]\n",
        "        # Asking for switching the option\n",
        "    print('Now, do you want to switch to door number-%d? (yes/no)' %(switching_door))\n",
        "    answer = input()\n",
        "    if answer == 'yes':\n",
        "        result = switching_door - 1\n",
        "    else:\n",
        "        result = choice - 1\n",
        "\n",
        "    # Displaying the player's prize\n",
        "    print('And your prize is ....', prizes[result].upper())\n",
        "\n",
        "# Reading initial choice\n",
        "choice = int(input('Which door do you want to choose? (1,2,3): '))\n",
        "\n",
        "# Playing game\n",
        "play_monty_hall(choice)"
      ]
    },
    {
      "cell_type": "markdown",
      "source": [
        "Tipping"
      ],
      "metadata": {
        "id": "rNlRK8vRoUM2"
      }
    },
    {
      "cell_type": "code",
      "source": [
        "import numpy as np\n",
        "import skfuzzy as fuzz\n",
        "from skfuzzy import control as ctrl\n",
        "\n",
        "f_qual = int(input(\"How did you liked the food ? [0-10] > \"))\n",
        "s_qual = int(input(\"How did you liked the service ? [0-10] > \"))\n",
        "\n",
        "quality = ctrl.Antecedent(np.arange(0, 11, 1), 'quality')\n",
        "service = ctrl.Antecedent(np.arange(0, 11, 1), 'service')\n",
        "\n",
        "tip = ctrl.Consequent(np.arange(0, 26, 1), 'tip')\n",
        "\n",
        "quality.automf(3)\n",
        "service.automf(3)\n",
        "\n",
        "tip['low'] = fuzz.trimf(tip.universe, [0, 0, 13])\n",
        "tip['medium'] = fuzz.trimf(tip.universe, [0, 13, 25])\n",
        "tip['high'] = fuzz.trimf(tip.universe, [13, 25, 25])\n",
        "\n",
        "rule1 = ctrl.Rule(quality['poor'] | service['poor'], tip['low'])\n",
        "rule2 = ctrl.Rule(service['average'], tip['medium'])\n",
        "rule3 = ctrl.Rule(service['good'] | quality['good'], tip['high'])\n",
        "\n",
        "tipping_ctrl = ctrl.ControlSystem([rule1, rule2, rule3])\n",
        "\n",
        "tipping = ctrl.ControlSystemSimulation(tipping_ctrl)\n",
        "\n",
        "tipping.input['quality'] = f_qual\n",
        "tipping.input['service'] = s_qual\n",
        "\n",
        "tipping.compute()\n",
        "\n",
        "print(\"You should tip about [ in % ]\", tipping.output['tip'])"
      ],
      "metadata": {
        "id": "nHe3TFrgncbc"
      },
      "execution_count": null,
      "outputs": []
    },
    {
      "cell_type": "markdown",
      "source": [
        "Sudoku"
      ],
      "metadata": {
        "id": "Pk6JAyavofeB"
      }
    },
    {
      "cell_type": "code",
      "source": [
        "size = 9\n",
        "matrix = [\n",
        "    [5,3,0,0,7,0,0,0,0],\n",
        "    [6,0,0,1,9,5,0,0,0],\n",
        "    [0,9,8,0,0,0,0,6,0],\n",
        "    [8,0,0,0,6,0,0,0,3],\n",
        "    [4,0,0,8,0,3,0,0,1],\n",
        "    [7,0,0,0,2,0,0,0,6],\n",
        "    [0,6,0,0,0,0,2,8,0],\n",
        "    [0,0,0,4,1,9,0,0,5],\n",
        "    [0,0,0,0,8,0,0,7,9]]\n",
        "\n",
        "#print sudoku\n",
        "def print_sudoku():\n",
        "    for i in matrix:\n",
        "        print (i)\n",
        "#assign cells and check\n",
        "def number_unassigned(row, col):\n",
        "    num_unassign = 0\n",
        "    for i in range(0,size):\n",
        "        for j in range (0,size):\n",
        "            #cell is unassigned\n",
        "            if matrix[i][j] == 0:\n",
        "                row = i\n",
        "                col = j\n",
        "                num_unassign = 1\n",
        "                a = [row, col, num_unassign]\n",
        "                return a\n",
        "    a = [-1, -1, num_unassign]\n",
        "    return a\n",
        "#check validity of number\n",
        "def is_safe(n, r, c):\n",
        "    #checking in row\n",
        "    for i in range(0,size):\n",
        "        #there is a cell with same value\n",
        "        if matrix[r][i] == n:\n",
        "            return False\n",
        "    #checking in column\n",
        "    for i in range(0,size):\n",
        "        #there is a cell with same value\n",
        "        if matrix[i][c] == n:\n",
        "            return False\n",
        "    row_start = (r//3)*3\n",
        "    col_start = (c//3)*3;\n",
        "    #checking submatrix\n",
        "    for i in range(row_start,row_start+3):\n",
        "        for j in range(col_start,col_start+3):\n",
        "            if matrix[i][j]==n:\n",
        "                return False\n",
        "    return True\n",
        "\n",
        "#check validity of number\n",
        "def solve_sudoku():\n",
        "    row = 0\n",
        "    col = 0\n",
        "    #if all cells are assigned then the sudoku is already solved\n",
        "    #pass by reference because number_unassigned will change the values of row and col\n",
        "    a = number_unassigned(row, col)\n",
        "    if a[2] == 0:\n",
        "        return True\n",
        "    row = a[0]\n",
        "    col = a[1]\n",
        "    #number between 1 to 9\n",
        "    for i in range(1,10):\n",
        "        #if we can assign i to the cell or not\n",
        "        #the cell is matrix[row][col]\n",
        "        if is_safe(i, row, col):\n",
        "            matrix[row][col] = i\n",
        "            #backtracking\n",
        "            if solve_sudoku():\n",
        "                return True\n",
        "            #f we can't proceed with this solution\n",
        "            #reassign the cell\n",
        "            matrix[row][col]=0\n",
        "    return False\n",
        "\n",
        "if solve_sudoku():\n",
        "    print_sudoku()\n",
        "else:\n",
        "    print(\"No solution\")"
      ],
      "metadata": {
        "id": "A-USykZ6nc_w"
      },
      "execution_count": null,
      "outputs": []
    },
    {
      "cell_type": "code",
      "source": [],
      "metadata": {
        "id": "-USDAQ_xoYbD"
      },
      "execution_count": null,
      "outputs": []
    }
  ]
}