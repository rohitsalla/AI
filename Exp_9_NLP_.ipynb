{
  "nbformat": 4,
  "nbformat_minor": 0,
  "metadata": {
    "colab": {
      "private_outputs": true,
      "provenance": []
    },
    "kernelspec": {
      "name": "python3",
      "display_name": "Python 3"
    },
    "language_info": {
      "name": "python"
    }
  },
  "cells": [
    {
      "cell_type": "markdown",
      "source": [
        "NLP"
      ],
      "metadata": {
        "id": "EUbjuxk2PkG1"
      }
    },
    {
      "cell_type": "code",
      "execution_count": null,
      "metadata": {
        "id": "zjBPHU0oPi5Q"
      },
      "outputs": [],
      "source": [
        "import nltk\n",
        "nltk.download('vader_lexicon')\n",
        "\n",
        "from nltk.sentiment.vader import SentimentIntensityAnalyzer\n",
        "\n",
        "# Initialize the sentiment analyzer\n",
        "sia = SentimentIntensityAnalyzer()\n",
        "\n",
        "# Sample text for analysis\n",
        "text = \"I really enjoyed this movie. The acting was great and the plot was engaging.\"\n",
        "\n",
        "# Calculate the sentiment score for the text\n",
        "score = sia.polarity_scores(text)\n",
        "\n",
        "# Print the sentiment score\n",
        "print(\"negative = \", score[\"neg\"])\n",
        "print(\"neutral = \", score[\"neu\"])\n",
        "print(\"positive = \", score[\"pos\"])\n",
        "print(\"compound = \", score[\"compound\"])"
      ]
    },
    {
      "cell_type": "code",
      "source": [
        ""
      ],
      "metadata": {
        "id": "Gmm5QhZpPlk2"
      },
      "execution_count": null,
      "outputs": []
    }
  ]
}