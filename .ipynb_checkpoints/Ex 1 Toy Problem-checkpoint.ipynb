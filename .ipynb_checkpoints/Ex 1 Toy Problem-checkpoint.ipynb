{
  "cells": [
    {
      "cell_type": "markdown",
      "metadata": {
        "id": "yj3MzMrLalgx"
      },
      "source": [
        "(Toy Problem) Camel and banana"
      ]
    },
    {
      "cell_type": "code",
      "execution_count": null,
      "metadata": {
        "id": "3Awg_osdaQIs"
      },
      "outputs": [],
      "source": [
        "# banana left \n",
        "\n",
        "a=3000                     #total bananas\n",
        "l=1000\n",
        "s=0\n",
        "while(a>l):\n",
        "    n=(a/l)*2-1            #no. of trips\n",
        "    x=l//n                 #distance of check post trips\n",
        "    s=s+x                  #storing no of bananas consumed\n",
        "    a=a-l                  #next load of banana\n",
        "kmleft=a-s\n",
        "bananasneeded=kmleft\n",
        "bananasleft=a-bananasneeded\n",
        "print(bananasleft)"
      ]
    },
    {
      "cell_type": "code",
      "execution_count": null,
      "metadata": {},
      "outputs": [],
      "source": [
        "# banana eating problem (max count)\n",
        "dp = [[-1 for i in range(3001)] for j in range(1001)]\n",
        "def recBananaCnt(A, B, C):\n",
        "    if (B <= A):\n",
        "        return 0\n",
        "    if (B <= C):\n",
        "        return B - A\n",
        "    if (A == 0):\n",
        "        return B\n",
        "    if (dp[A][B] != -1):\n",
        "        return dp[A][B]\n",
        "    maxCount = -2**32\n",
        "    tripCount = ((2 * B) // C) - 1 if (B % C == 0) else ((2 * B) // C) + 1\n",
        "    for i in range(1, A+1):\n",
        "        curCount = recBananaCnt(A - i, B - tripCount * i, C)\n",
        "        if (curCount > maxCount):\n",
        "            maxCount = curCount\n",
        "            dp[A][B] = maxCount\n",
        "    return maxCount\n",
        "\n",
        "\n",
        "def maxBananaCnt(A, B, C):\n",
        "    print(\"Calculating...\")\n",
        "    return recBananaCnt(A, B, C)\n",
        "\n",
        "\n",
        "A = 1000\n",
        "B = 3000\n",
        "C = 1000\n",
        "print(maxBananaCnt(A, B, C))"
      ]
    },
    {
      "cell_type": "markdown",
      "metadata": {
        "id": "KgGbWn3YaiRd"
      },
      "source": [
        "Maximum Ticket Price Problem.py"
      ]
    },
    {
      "cell_type": "code",
      "execution_count": null,
      "metadata": {
        "id": "KCxwB-DTaRJH"
      },
      "outputs": [],
      "source": [
        "def maxAmount(M, N, seats):\n",
        "\n",
        "\tq = []\n",
        "\n",
        "\tfor i in range(M):\n",
        "\t\tq.append(seats[i])\n",
        "\n",
        "\tticketSold = 0\n",
        "\n",
        "\tans = 0\n",
        "\n",
        "\tq.sort(reverse = True)\n",
        "\twhile (ticketSold < N and q[0] > 0):\n",
        "\t\tans = ans + q[0]\n",
        "\t\ttemp = q[0]\n",
        "\t\tq = q[1:]\n",
        "\t\tq.append(temp - 1)\n",
        "\t\tq.sort(reverse = True)\n",
        "\t\tticketSold += 1\n",
        "\n",
        "\treturn ans\n",
        "\n",
        "if __name__ == '__main__':\n",
        "\n",
        "\tseats = []\n",
        "\n",
        "\trows = int(input(\"Enter number of rows available : \"))\n",
        "\n",
        "\tfor i in range(0, rows):\n",
        "\t\tempty = int(input())\n",
        "\t\tseats.append(empty)\n",
        "\n",
        "\tprint(seats)\n",
        "\tM = len(seats)\n",
        "\tN = int(input(\"Enter the number of People standing in the queue : \"))\n",
        "\n",
        "\tprint(\"Maximum Profit generated = \", maxAmount(N, M, seats))"
      ]
    },
    {
      "cell_type": "code",
      "execution_count": null,
      "metadata": {
        "id": "en4KWlypaYEW"
      },
      "outputs": [],
      "source": []
    }
  ],
  "metadata": {
    "colab": {
      "private_outputs": true,
      "provenance": []
    },
    "kernelspec": {
      "display_name": "Python 3",
      "name": "python3"
    },
    "language_info": {
      "name": "python",
      "version": "3.12.2"
    }
  },
  "nbformat": 4,
  "nbformat_minor": 0
}
