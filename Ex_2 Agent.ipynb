{
  "nbformat": 4,
  "nbformat_minor": 0,
  "metadata": {
    "colab": {
      "private_outputs": true,
      "provenance": []
    },
    "kernelspec": {
      "name": "python3",
      "display_name": "Python 3"
    },
    "language_info": {
      "name": "python"
    }
  },
  "cells": [
    {
      "cell_type": "markdown",
      "source": [
        "Tic Tac Toe"
      ],
      "metadata": {
        "id": "d93KBdmYfPBv"
      }
    },
    {
      "cell_type": "code",
      "source": [
        "board = [' ' for x in range(10)]\n",
        "\n",
        "def insertLetter(letter,pos):\n",
        "    board[pos] = letter\n",
        "\n",
        "def spaceIsFree(pos):\n",
        "    return board[pos] == ' '\n",
        "\n",
        "def printBoard(board):\n",
        "    print('   |   |   ')\n",
        "    print(' ' + board[1] + ' | ' + board[2] + ' | ' + board[3])\n",
        "    print('   |   |   ')\n",
        "    print('------------')\n",
        "    print('   |   |   ')\n",
        "    print(' ' + board[4] + ' | ' + board[5] + ' | ' + board[6])\n",
        "    print('   |   |   ')\n",
        "    print('------------')\n",
        "    print('   |   |   ')\n",
        "    print(' ' + board[7] + ' | ' + board[8] + ' | ' + board[9])\n",
        "    print('   |   |   ')\n",
        "\n",
        "def isBoardFull(board):\n",
        "    if board.count(' ') > 1:\n",
        "        return False\n",
        "    else:\n",
        "        return True\n",
        "\n",
        "def IsWinner(b,l):\n",
        "    return ((b[1] == l and b[2] == l and b[3] == l) or\n",
        "    (b[4] == l and b[5] == l and b[6] == l) or\n",
        "    (b[7] == l and b[8] == l and b[9] == l) or\n",
        "    (b[1] == l and b[4] == l and b[7] == l) or\n",
        "    (b[2] == l and b[5] == l and b[8] == l) or\n",
        "    (b[3] == l and b[6] == l and b[9] == l) or\n",
        "    (b[1] == l and b[5] == l and b[9] == l) or\n",
        "    (b[3] == l and b[5] == l and b[7] == l))\n",
        "\n",
        "def playerMove():\n",
        "    run = True\n",
        "    while run:\n",
        "        move = input(\"please select a position to enter the X between 1 to 9\\n\")\n",
        "        try:\n",
        "            move = int(move)\n",
        "            if move > 0 and move < 10:\n",
        "                if spaceIsFree(move):\n",
        "                    run = False\n",
        "                    insertLetter('X' , move)\n",
        "                else:\n",
        "                    print('Sorry, this space is occupied')\n",
        "            else:\n",
        "                print('please type a number between 1 and 9')\n",
        "\n",
        "        except:\n",
        "            print('Please type a number')\n",
        "\n",
        "def computerMove():\n",
        "    possibleMoves = [x for x , letter in enumerate(board) if letter == ' ' and x != 0  ]\n",
        "    move = 0\n",
        "\n",
        "    for let in ['O' , 'X']:\n",
        "        for i in possibleMoves:\n",
        "            boardcopy = board[:]\n",
        "            boardcopy[i] = let\n",
        "            if IsWinner(boardcopy, let):\n",
        "                move = i\n",
        "                return move\n",
        "\n",
        "    cornersOpen = []\n",
        "    for i in possibleMoves:\n",
        "        if i in [1 , 3 , 7 , 9]:\n",
        "            cornersOpen.append(i)\n",
        "\n",
        "    if len(cornersOpen) > 0:\n",
        "        move = selectRandom(cornersOpen)\n",
        "        return move\n",
        "\n",
        "    if 5 in possibleMoves:\n",
        "        move = 5\n",
        "        return move\n",
        "\n",
        "    edgesOpen = []\n",
        "    for i in possibleMoves:\n",
        "        if i in [2,4,6,8]:\n",
        "            edgesOpen.append(i)\n",
        "\n",
        "    if len(edgesOpen) > 0:\n",
        "        move = selectRandom(edgesOpen)\n",
        "        return move\n",
        "\n",
        "def selectRandom(li):\n",
        "    import random\n",
        "    ln = len(li)\n",
        "    r = random.randrange(0,ln)\n",
        "    return li[r]\n",
        "\n",
        "def main():\n",
        "    print(\"Welcome to the game!\")\n",
        "    printBoard(board)\n",
        "\n",
        "    while not(isBoardFull(board)):\n",
        "        if not(IsWinner(board , 'O')):\n",
        "            playerMove()\n",
        "            printBoard(board)\n",
        "        else:\n",
        "            print(\"sorry you loose!\")\n",
        "            break\n",
        "\n",
        "        if not(IsWinner(board , 'X')):\n",
        "            move = computerMove()\n",
        "            if move == 0:\n",
        "                print(\" \")\n",
        "            else:\n",
        "                insertLetter('O' , move)\n",
        "                print('computer placed an o on position' , move , ':')\n",
        "                printBoard(board)\n",
        "        else:\n",
        "            print(\"you win!\")\n",
        "            break\n",
        "\n",
        "\n",
        "\n",
        "\n",
        "    if isBoardFull(board):\n",
        "        print(\"Tie game\")\n",
        "\n",
        "while True:\n",
        "    x = input(\"Do you want to play? Press y for yes or n for no (y/n)\\n\")\n",
        "    if x.lower() == 'y':\n",
        "        board = [' ' for x in range(10)]\n",
        "        print('--------------------')\n",
        "        main()\n",
        "    else:\n",
        "        break"
      ],
      "metadata": {
        "id": "yCMr0Md-eqXU"
      },
      "execution_count": null,
      "outputs": []
    },
    {
      "cell_type": "markdown",
      "source": [
        "Graph Coloring Problem"
      ],
      "metadata": {
        "id": "JbjU7Y7sbiPe"
      }
    },
    {
      "cell_type": "code",
      "execution_count": null,
      "metadata": {
        "id": "00CJxJvqa1cL"
      },
      "outputs": [],
      "source": [
        "colors = ['red','blue','green','orange','yellow','violet']\n",
        "\n",
        "states = ['MP','New Delhi','Haryana','Rajasthan','Gujarat']\n",
        "\n",
        "neighbours = {\n",
        "    'MP':['New Delhi','Rajasthan','Gujarat'],\n",
        "    'New Delhi':['MP','Rajasthan','Haryana'],\n",
        "    'Haryana':['New Delhi'],\n",
        "    'Rajasthan':['MP','Gujarat','New Delhi'],\n",
        "    'Gujarat':['Rajasthan','MP']\n",
        "}\n",
        "\n",
        "state_colors = {}\n",
        "def promising(state, color):\n",
        "    for neighbour in neighbours.get(state):\n",
        "        color_of_neighbor = state_colors.get(neighbour)\n",
        "        if color_of_neighbor == color:\n",
        "            return False\n",
        "\n",
        "    return True\n",
        "\n",
        "for state in states:\n",
        "    for color in colors:\n",
        "        if promising(state, color):\n",
        "            state_colors[state] = color\n",
        "\n",
        "print (state_colors)"
      ]
    },
    {
      "cell_type": "markdown",
      "source": [
        "Graph Coloring Problem :: Given a graph color its edges such that no two adjacent have the same color using minimum number of colors and return the chromatic"
      ],
      "metadata": {
        "id": "EgRJVzZfeTu3"
      }
    },
    {
      "cell_type": "markdown",
      "source": [
        "Face Color"
      ],
      "metadata": {
        "id": "2CjJbX1UeHYx"
      }
    },
    {
      "cell_type": "code",
      "source": [
        "import networkx as nx\n",
        "\n",
        "G = nx.Graph()\n",
        "\n",
        "colors = {0:\"red\", 1:\"green\", 2:\"blue\", 3:\"yellow\"}\n",
        "\n",
        "G.add_nodes_from([1,2,3,4,5, 6, 7])\n",
        "G.add_edges_from([(1,2), (1,3), (2,4), (2,7), (3,4), (4,5), (4,6), (5,6), (5,7)])\n",
        "\n",
        "nodes = list(G.nodes)\n",
        "edges = list(G.edges)\n",
        "some_colors = ['red','green','blue','yellow']\n",
        "\n",
        "no_of_faces = len(edges)+2-len(nodes)-1\n",
        "def regionColour(regions):\n",
        "    print(\"NO OF FACES : \"+str(regions))\n",
        "    for i in range(1,regions+1):\n",
        "        print(\"FACE \", i, \": \"+some_colors[i%4])\n",
        "\n",
        "regionColour(no_of_faces)"
      ],
      "metadata": {
        "id": "MzlNYWmDb_ED"
      },
      "execution_count": null,
      "outputs": []
    },
    {
      "cell_type": "markdown",
      "source": [
        "Edge Color"
      ],
      "metadata": {
        "id": "oIyabVkweDNc"
      }
    },
    {
      "cell_type": "code",
      "source": [
        "import matplotlib.pyplot as plt\n",
        "import networkx as nx\n",
        "from matplotlib.patches import Polygon\n",
        "import numpy as np\n",
        "\n",
        "G = nx.Graph()\n",
        "\n",
        "colors = {0:\"red\", 1:\"green\", 2:\"blue\", 3:\"yellow\"}\n",
        "\n",
        "G.add_nodes_from([1,2,3,4,5, 6, 7])\n",
        "G.add_edges_from([(1,2), (1,3), (2,4), (2,7), (3,4), (4,5), (4,6), (5,6), (5,7)])\n",
        "\n",
        "nodes = list(G.nodes)\n",
        "edges = list(G.edges)\n",
        "\n",
        "color_lists = []\n",
        "color_of_edge = []\n",
        "some_colors = ['red','green','blue','yellow']\n",
        "\n",
        "for i in range(len(nodes) + 2):\n",
        "    color_lists.append([])\n",
        "    color_of_edge.append(-1)\n",
        "\n",
        "def getSmallestColor(ls1,ls2):\n",
        "    i = 1\n",
        "    while(i in ls1 or i in ls2):\n",
        "        i = i + 1\n",
        "    return i\n",
        "\n",
        "#iterate over edges\n",
        "i = 0\n",
        "for ed in edges:\n",
        "    newColor = getSmallestColor(color_lists[ed[0]],color_lists[ed[1]])\n",
        "    color_lists[ed[0]].append(newColor)\n",
        "    color_lists[ed[1]].append(newColor)\n",
        "    color_of_edge[i] = newColor\n",
        "    i = i + 1\n",
        "\n",
        "# Makin graph again\n",
        "G = nx.Graph()\n",
        "\n",
        "for i in range(len(edges)):\n",
        "    G.add_edge(edges[i][0],edges[i][1],color=some_colors[color_of_edge[i]-1])\n",
        "\n",
        "colors = nx.get_edge_attributes(G,'color').values()\n",
        "nx.draw(G, edge_color=colors, with_labels=True, width=2)\n",
        "\n",
        "plt.show()"
      ],
      "metadata": {
        "id": "gpFg6MxWdrjc"
      },
      "execution_count": null,
      "outputs": []
    },
    {
      "cell_type": "markdown",
      "source": [
        "Vertex Color\n"
      ],
      "metadata": {
        "id": "Ew6hQQN1d-od"
      }
    },
    {
      "cell_type": "code",
      "source": [
        "import matplotlib.pyplot as plt\n",
        "import networkx as nx\n",
        "\n",
        "G = nx.Graph()\n",
        "\n",
        "colors = {0:\"red\", 1:\"green\", 2:\"blue\"}\n",
        "\n",
        "G.add_nodes_from([1,2,3,4,5, 6, 7])\n",
        "G.add_edges_from([(1,2), (1,3), (2,4), (2,7), (3,4), (4,5), (4,6), (5,6), (5,7)])\n",
        "\n",
        "d = nx.coloring.greedy_color(G, strategy = \"largest_first\")\n",
        "node_colors = []\n",
        "for i in sorted (d.keys()):\n",
        "    node_colors.append(colors[d[i]])\n",
        "\n",
        "nx.draw(G, node_color = node_colors, with_labels = True, width = 5)\n",
        "\n",
        "plt.show()"
      ],
      "metadata": {
        "id": "UkE_nFY8dw2A"
      },
      "execution_count": null,
      "outputs": []
    },
    {
      "cell_type": "code",
      "source": [],
      "metadata": {
        "id": "-PwH1Jxwdz7y"
      },
      "execution_count": null,
      "outputs": []
    }
  ]
}