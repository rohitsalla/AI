{
  "nbformat": 4,
  "nbformat_minor": 0,
  "metadata": {
    "colab": {
      "private_outputs": true,
      "provenance": []
    },
    "kernelspec": {
      "name": "python3",
      "display_name": "Python 3"
    },
    "language_info": {
      "name": "python"
    }
  },
  "cells": [
    {
      "cell_type": "code",
      "execution_count": null,
      "metadata": {
        "id": "hO9ZkNKskRi-"
      },
      "outputs": [],
      "source": [
        "graph = {\n",
        "    'A': ['B', 'C'],\n",
        "    'B': ['D', 'E'],\n",
        "    'C': ['F'],\n",
        "    'D': [],\n",
        "    'E': ['F'],\n",
        "    'F': []\n",
        "}\n",
        "visited_bfs = []\n",
        "queue = []\n",
        "\n",
        "\n",
        "def bfs(visited_bfs, graph, node):\n",
        "  visited_bfs.append(node)\n",
        "  queue.append(node)\n",
        "\n",
        "  while queue:\n",
        "    s = queue.pop(0)\n",
        "    print(s, end=\" \")\n",
        "\n",
        "    for neighbour in graph[s]:\n",
        "      if neighbour not in visited_bfs:\n",
        "        visited_bfs.append(neighbour)\n",
        "        queue.append(neighbour)\n",
        "\n",
        "\n",
        "visited = set()\n",
        "\n",
        "\n",
        "def dfs(visited, graph, node):\n",
        "    if node not in visited:\n",
        "        print(node, end=\" \")\n",
        "        visited.add(node)\n",
        "        for neighbour in graph[node]:\n",
        "            dfs(visited, graph, neighbour)\n",
        "\n",
        "\n",
        "print(\"BFS:\", end=\" \")\n",
        "bfs(visited_bfs, graph, 'A')\n",
        "print('\\n')\n",
        "print(\"DFS:\", end=\" \")\n",
        "dfs(visited, graph, 'A')"
      ]
    },
    {
      "cell_type": "code",
      "source": [],
      "metadata": {
        "id": "tGhpPeLgkZ8L"
      },
      "execution_count": null,
      "outputs": []
    }
  ]
}