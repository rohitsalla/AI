{
  "nbformat": 4,
  "nbformat_minor": 0,
  "metadata": {
    "colab": {
      "private_outputs": true,
      "provenance": []
    },
    "kernelspec": {
      "name": "python3",
      "display_name": "Python 3"
    },
    "language_info": {
      "name": "python"
    }
  },
  "cells": [
    {
      "cell_type": "code",
      "source": [
        "import itertools\n",
        "\n",
        "def get_value(word, substitution):\n",
        "    s = 0\n",
        "    factor = 1\n",
        "    for letter in reversed(word):\n",
        "        s += factor * substitution[letter]\n",
        "        factor *= 10\n",
        "    return s\n",
        "\n",
        "def solve2(equation):\n",
        "    left, right = equation.lower().replace(' ', '').split('=')\n",
        "    left = left.split('+')\n",
        "    letters = set(right)\n",
        "    for word in left:\n",
        "        for letter in word:\n",
        "            letters.add(letter)\n",
        "    letters = list(letters)\n",
        "\n",
        "    digits = range(10)\n",
        "    for perm in itertools.permutations(digits, len(letters)):\n",
        "        sol = dict(zip(letters, perm))\n",
        "\n",
        "        if sum(get_value(word, sol) for word in left) == get_value(right, sol):\n",
        "            print(' + '.join(str(get_value(word, sol)) for word in left) + \" = {} (mapping: {})\".format(get_value(right, sol), sol))"
      ],
      "metadata": {
        "id": "fsRcmkNEfq_2"
      },
      "execution_count": null,
      "outputs": []
    },
    {
      "cell_type": "code",
      "source": [
        "#solve2('SEND + MORE = MONEY')\n",
        "#solve2('POINT + ZERO = ENERGY ')\n",
        "solve2('EAT + THAT = APPLE')"
      ],
      "metadata": {
        "id": "7lZweP42iQ-Y"
      },
      "execution_count": null,
      "outputs": []
    },
    {
      "cell_type": "code",
      "source": [],
      "metadata": {
        "id": "iSL1dY1KifLt"
      },
      "execution_count": null,
      "outputs": []
    }
  ]
}